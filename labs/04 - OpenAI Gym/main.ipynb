{
 "cells": [
  {
   "cell_type": "code",
   "execution_count": 1,
   "metadata": {},
   "outputs": [
    {
     "name": "stderr",
     "output_type": "stream",
     "text": [
      "Warning: Gym version v0.24.0 has a number of critical issues with `gym.make` such that the `reset` and `step` functions are called before returning the environment. It is recommend to downgrading to v0.23.1 or upgrading to v0.25.1\n"
     ]
    }
   ],
   "source": [
    "#!pip install gym[all]==0.24\n",
    "from tqdm.notebook import tqdm\n",
    "import numpy as np\n",
    "import random\n",
    "import gym\n",
    "\n",
    "N_BANDITS = 3\n",
    "N_EPISODES = 10_000\n",
    "N_MAX_STEPS_PER_EPISODE = 100\n",
    "\n",
    "SEED = 0\n",
    "\n",
    "random.seed(SEED)\n",
    "np.random.seed(SEED)"
   ]
  },
  {
   "cell_type": "code",
   "execution_count": 2,
   "metadata": {},
   "outputs": [],
   "source": [
    "class QLearningAgent:\n",
    "    def __init__(self, n_states, n_actions, learning_rate):\n",
    "        self.n_states = n_states\n",
    "        self.n_actions = n_actions\n",
    "        self.learning_rate = learning_rate\n",
    "        \n",
    "        self.q_table = np.zeros((n_states, n_actions))\n",
    "    \n",
    "    def act(self, state, epsilon):\n",
    "        # Randomly generate a number between 0 and 1\n",
    "        random_int = random.uniform(0,1)\n",
    "        # if random_int > greater than epsilon --> exploitation\n",
    "        if random_int > epsilon:\n",
    "            # Take the action with the highest value given a state\n",
    "            # np.argmax can be useful here\n",
    "            action = np.argmax(self.q_table[state])\n",
    "        # else --> exploration\n",
    "        else:\n",
    "            action = random.randint(0, self.n_actions - 1)\n",
    "        \n",
    "        return action\n",
    "    \n",
    "    def learn(self, state, action, reward, new_state, gamma):\n",
    "        self.q_table[state][action] = self.q_table[state][action] + self.learning_rate * (reward + gamma * np.max(self.q_table[new_state]) - self.q_table[state][action])   \n"
   ]
  },
  {
   "cell_type": "code",
   "execution_count": 3,
   "metadata": {},
   "outputs": [],
   "source": [
    "env = gym.make(\"FrozenLake-v1\", map_name=\"4x4\", is_slippery=False)\n",
    "\n",
    "agent = QLearningAgent(n_states=env.observation_space.n, n_actions=env.action_space.n, learning_rate=LEARNING_RATE)"
   ]
  },
  {
   "cell_type": "code",
   "execution_count": 4,
   "metadata": {},
   "outputs": [
    {
     "data": {
      "application/vnd.jupyter.widget-view+json": {
       "model_id": "00e48e2f67b743f3a597893e9a582f1c",
       "version_major": 2,
       "version_minor": 0
      },
      "text/plain": [
       "  0%|          | 0/10000 [00:00<?, ?it/s]"
      ]
     },
     "metadata": {},
     "output_type": "display_data"
    }
   ],
   "source": [
    "# Exploration parameters\n",
    "max_epsilon = 1.0             # Exploration probability at start\n",
    "min_epsilon = 0.05            # Minimum exploration probability \n",
    "decay_rate = 0.001            # Exponential decay rate for exploration prob\n",
    "gamma = 0.95\n",
    "\n",
    "rewards = []\n",
    "epsilon_history = []\n",
    "\n",
    "for episode in tqdm(range(N_EPISODES)):\n",
    "    state = env.reset()\n",
    "    done = False\n",
    "    \n",
    "    epsilon = min_epsilon + (max_epsilon - min_epsilon)*np.exp(-decay_rate*episode)\n",
    "    \n",
    "    total_reward = 0\n",
    "\n",
    "    render_frequency = 100\n",
    "\n",
    "    for step in range(N_MAX_STEPS_PER_EPISODE):\n",
    "        action = agent.act(state=state, epsilon=epsilon)\n",
    "\n",
    "        new_state, reward, done, info = env.step(action)\n",
    "        \n",
    "        agent.learn(state, action, reward, new_state, gamma)\n",
    "        \n",
    "        total_reward += reward\n",
    "\n",
    "        # If done, finish the episode\n",
    "        if done:\n",
    "            break\n",
    "      \n",
    "        # Our state is the new state\n",
    "        state = new_state\n",
    "\n",
    "        if episode % render_frequency == 0:\n",
    "            env.render()     \n",
    "        #env.render()\n",
    "        \n",
    "    #print(f\"Total reward for episode {episode}: {total_reward}\")\n",
    "    \n",
    "    rewards.append(total_reward)\n",
    "    epsilon_history.append(epsilon)"
   ]
  },
  {
   "cell_type": "code",
   "execution_count": null,
   "metadata": {},
   "outputs": [
    {
     "data": {
      "text/plain": [
       "array([[0.73509189, 0.76467109, 0.77378094, 0.73509189],\n",
       "       [0.73509189, 0.        , 0.81450625, 0.77378094],\n",
       "       [0.77378094, 0.857375  , 0.77378094, 0.81450625],\n",
       "       [0.81450625, 0.        , 0.72746381, 0.73434058],\n",
       "       [0.67948437, 0.81225947, 0.        , 0.73509189],\n",
       "       [0.        , 0.        , 0.        , 0.        ],\n",
       "       [0.        , 0.9025    , 0.        , 0.81450625],\n",
       "       [0.        , 0.        , 0.        , 0.        ],\n",
       "       [0.23664222, 0.        , 0.85723767, 0.40372554],\n",
       "       [0.70867978, 0.85341442, 0.9025    , 0.        ],\n",
       "       [0.857375  , 0.95      , 0.        , 0.857375  ],\n",
       "       [0.        , 0.        , 0.        , 0.        ],\n",
       "       [0.        , 0.        , 0.        , 0.        ],\n",
       "       [0.        , 0.59946082, 0.95      , 0.73927753],\n",
       "       [0.9025    , 0.95      , 1.        , 0.9025    ],\n",
       "       [0.        , 0.        , 0.        , 0.        ]])"
      ]
     },
     "execution_count": 14,
     "metadata": {},
     "output_type": "execute_result"
    }
   ],
   "source": [
    "agent.q_table"
   ]
  },
  {
   "cell_type": "code",
   "execution_count": null,
   "metadata": {},
   "outputs": [
    {
     "data": {
      "image/png": "[encoded data removed]",
      "text/plain": [
       "<Figure size 432x288 with 1 Axes>"
      ]
     },
     "metadata": {
      "needs_background": "light"
     },
     "output_type": "display_data"
    }
   ],
   "source": [
    "import matplotlib.pyplot as plt\n",
    "\n",
    "plt.plot(range(N_EPISODES), epsilon_history)\n",
    "plt.xlabel(\"Episode\")\n",
    "plt.ylabel(\"Epsilon\")\n",
    "plt.show()"
   ]
  },
  {
   "cell_type": "code",
   "execution_count": null,
   "metadata": {},
   "outputs": [
    {
     "data": {
      "image/png": "[encoded data removed]",
      "text/plain": [
       "<Figure size 432x288 with 1 Axes>"
      ]
     },
     "metadata": {
      "needs_background": "light"
     },
     "output_type": "display_data"
    }
   ],
   "source": [
    "plt.plot(range(N_EPISODES), rewards)\n",
    "plt.xlabel(\"Episode\")\n",
    "plt.ylabel(\"Reward\")\n",
    "plt.show()"
   ]
  },
  {
   "cell_type": "code",
   "execution_count": null,
   "metadata": {},
   "outputs": [
    {
     "data": {
      "image/png": "[encoded data removed]",
      "text/plain": [
       "<Figure size 432x288 with 1 Axes>"
      ]
     },
     "metadata": {
      "needs_background": "light"
     },
     "output_type": "display_data"
    }
   ],
   "source": [
    "def smoothen(data):\n",
    "    return np.cumsum(data) / np.arange(len(rewards) + 1)[1:]\n",
    "\n",
    "rewards_smooth_window_5 = smoothen(rewards)\n",
    "\n",
    "plt.plot(range(N_EPISODES), rewards)\n",
    "plt.plot(range(N_EPISODES), rewards_smooth_window_5, color=\"orange\")\n",
    "plt.xlabel(\"Episode\")\n",
    "plt.ylabel(\"Reward\")\n",
    "plt.legend([\"rewards\", \"averaged rewards\"])\n",
    "plt.show()"
   ]
  },
  {
   "cell_type": "code",
   "execution_count": null,
   "metadata": {},
   "outputs": [
    {
     "data": {
      "image/png": "[encoded data removed]",
      "text/plain": [
       "<Figure size 432x288 with 1 Axes>"
      ]
     },
     "metadata": {
      "needs_background": "light"
     },
     "output_type": "display_data"
    }
   ],
   "source": [
    "def smoothen(data):\n",
    "    return np.cumsum(data) / np.arange(len(rewards) + 1)[1:]\n",
    "\n",
    "rewards_smooth_window_5 = smoothen(rewards)\n",
    "\n",
    "plt.plot(range(100), rewards)\n",
    "plt.xlabel(\"Episode\")\n",
    "plt.ylabel(\"Reward\")\n",
    "plt.legend([\"rewards\", \"averaged rewards\"])\n",
    "plt.show()"
   ]
  }
 ],
 "metadata": {
  "kernelspec": {
   "display_name": "Python 3.9.7 ('base')",
   "language": "python",
   "name": "python3"
  },
  "language_info": {
   "codemirror_mode": {
    "name": "ipython",
    "version": 3
   },
   "file_extension": ".py",
   "mimetype": "text/x-python",
   "name": "python",
   "nbconvert_exporter": "python",
   "pygments_lexer": "ipython3",
   "version": "3.9.7"
  },
  "orig_nbformat": 4,
  "vscode": {
   "interpreter": {
    "hash": "ad2bdc8ecc057115af97d19610ffacc2b4e99fae6737bb82f5d7fb13d2f2c186"
   }
  }
 },
 "nbformat": 4,
 "nbformat_minor": 2
}
